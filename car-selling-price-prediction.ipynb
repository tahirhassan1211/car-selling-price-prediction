{
 "cells": [
  {
   "cell_type": "code",
   "execution_count": 1,
   "id": "c4d04050",
   "metadata": {
    "_cell_guid": "b1076dfc-b9ad-4769-8c92-a6c4dae69d19",
    "_uuid": "8f2839f25d086af736a60e9eeb907d3b93b6e0e5",
    "execution": {
     "iopub.execute_input": "2022-08-28T12:02:30.039522Z",
     "iopub.status.busy": "2022-08-28T12:02:30.039059Z",
     "iopub.status.idle": "2022-08-28T12:02:30.060141Z",
     "shell.execute_reply": "2022-08-28T12:02:30.058752Z"
    },
    "papermill": {
     "duration": 0.040835,
     "end_time": "2022-08-28T12:02:30.063815",
     "exception": false,
     "start_time": "2022-08-28T12:02:30.022980",
     "status": "completed"
    },
    "tags": []
   },
   "outputs": [
    {
     "name": "stdout",
     "output_type": "stream",
     "text": [
      "/kaggle/input/vehicle-dataset-from-cardekho/car data.csv\n",
      "/kaggle/input/vehicle-dataset-from-cardekho/CAR DETAILS FROM CAR DEKHO.csv\n",
      "/kaggle/input/vehicle-dataset-from-cardekho/Car details v3.csv\n"
     ]
    }
   ],
   "source": [
    "# This Python 3 environment comes with many helpful analytics libraries installed\n",
    "# It is defined by the kaggle/python Docker image: https://github.com/kaggle/docker-python\n",
    "# For example, here's several helpful packages to load\n",
    "\n",
    "import numpy as np # linear algebra\n",
    "import pandas as pd # data processing, CSV file I/O (e.g. pd.read_csv)\n",
    "\n",
    "# Input data files are available in the read-only \"../input/\" directory\n",
    "# For example, running this (by clicking run or pressing Shift+Enter) will list all files under the input directory\n",
    "\n",
    "import os\n",
    "for dirname, _, filenames in os.walk('/kaggle/input'):\n",
    "    for filename in filenames:\n",
    "        print(os.path.join(dirname, filename))\n",
    "\n",
    "# You can write up to 20GB to the current directory (/kaggle/working/) that gets preserved as output when you create a version using \"Save & Run All\" \n",
    "# You can also write temporary files to /kaggle/temp/, but they won't be saved outside of the current session"
   ]
  },
  {
   "cell_type": "code",
   "execution_count": 2,
   "id": "2a0e5373",
   "metadata": {
    "execution": {
     "iopub.execute_input": "2022-08-28T12:02:30.089781Z",
     "iopub.status.busy": "2022-08-28T12:02:30.089138Z",
     "iopub.status.idle": "2022-08-28T12:02:31.372673Z",
     "shell.execute_reply": "2022-08-28T12:02:31.371730Z"
    },
    "papermill": {
     "duration": 1.298911,
     "end_time": "2022-08-28T12:02:31.375207",
     "exception": false,
     "start_time": "2022-08-28T12:02:30.076296",
     "status": "completed"
    },
    "tags": []
   },
   "outputs": [],
   "source": [
    "# we have imported all libraries which are used in this project\n",
    "import pandas as pd\n",
    "import matplotlib.pyplot as plt\n",
    "import seaborn as sns\n",
    "from sklearn.model_selection import train_test_split\n",
    "from sklearn.linear_model import LinearRegression\n",
    "from sklearn.linear_model import Lasso\n",
    "from sklearn import metrics"
   ]
  },
  {
   "cell_type": "code",
   "execution_count": 3,
   "id": "180798f0",
   "metadata": {
    "execution": {
     "iopub.execute_input": "2022-08-28T12:02:31.400932Z",
     "iopub.status.busy": "2022-08-28T12:02:31.399969Z",
     "iopub.status.idle": "2022-08-28T12:02:31.421884Z",
     "shell.execute_reply": "2022-08-28T12:02:31.421056Z"
    },
    "papermill": {
     "duration": 0.037162,
     "end_time": "2022-08-28T12:02:31.424246",
     "exception": false,
     "start_time": "2022-08-28T12:02:31.387084",
     "status": "completed"
    },
    "tags": []
   },
   "outputs": [],
   "source": [
    "#reading the data file into vehicle_data variable using pandas read_csv function\n",
    "vehicle_data=pd.read_csv('/kaggle/input/vehicle-dataset-from-cardekho/car data.csv')"
   ]
  },
  {
   "cell_type": "code",
   "execution_count": 4,
   "id": "7b697930",
   "metadata": {
    "execution": {
     "iopub.execute_input": "2022-08-28T12:02:31.450531Z",
     "iopub.status.busy": "2022-08-28T12:02:31.450142Z",
     "iopub.status.idle": "2022-08-28T12:02:31.482422Z",
     "shell.execute_reply": "2022-08-28T12:02:31.481375Z"
    },
    "papermill": {
     "duration": 0.047286,
     "end_time": "2022-08-28T12:02:31.484586",
     "exception": false,
     "start_time": "2022-08-28T12:02:31.437300",
     "status": "completed"
    },
    "tags": []
   },
   "outputs": [
    {
     "data": {
      "text/html": [
       "<div>\n",
       "<style scoped>\n",
       "    .dataframe tbody tr th:only-of-type {\n",
       "        vertical-align: middle;\n",
       "    }\n",
       "\n",
       "    .dataframe tbody tr th {\n",
       "        vertical-align: top;\n",
       "    }\n",
       "\n",
       "    .dataframe thead th {\n",
       "        text-align: right;\n",
       "    }\n",
       "</style>\n",
       "<table border=\"1\" class=\"dataframe\">\n",
       "  <thead>\n",
       "    <tr style=\"text-align: right;\">\n",
       "      <th></th>\n",
       "      <th>Car_Name</th>\n",
       "      <th>Year</th>\n",
       "      <th>Selling_Price</th>\n",
       "      <th>Present_Price</th>\n",
       "      <th>Kms_Driven</th>\n",
       "      <th>Fuel_Type</th>\n",
       "      <th>Seller_Type</th>\n",
       "      <th>Transmission</th>\n",
       "      <th>Owner</th>\n",
       "    </tr>\n",
       "  </thead>\n",
       "  <tbody>\n",
       "    <tr>\n",
       "      <th>0</th>\n",
       "      <td>ritz</td>\n",
       "      <td>2014</td>\n",
       "      <td>3.35</td>\n",
       "      <td>5.59</td>\n",
       "      <td>27000</td>\n",
       "      <td>Petrol</td>\n",
       "      <td>Dealer</td>\n",
       "      <td>Manual</td>\n",
       "      <td>0</td>\n",
       "    </tr>\n",
       "    <tr>\n",
       "      <th>1</th>\n",
       "      <td>sx4</td>\n",
       "      <td>2013</td>\n",
       "      <td>4.75</td>\n",
       "      <td>9.54</td>\n",
       "      <td>43000</td>\n",
       "      <td>Diesel</td>\n",
       "      <td>Dealer</td>\n",
       "      <td>Manual</td>\n",
       "      <td>0</td>\n",
       "    </tr>\n",
       "    <tr>\n",
       "      <th>2</th>\n",
       "      <td>ciaz</td>\n",
       "      <td>2017</td>\n",
       "      <td>7.25</td>\n",
       "      <td>9.85</td>\n",
       "      <td>6900</td>\n",
       "      <td>Petrol</td>\n",
       "      <td>Dealer</td>\n",
       "      <td>Manual</td>\n",
       "      <td>0</td>\n",
       "    </tr>\n",
       "    <tr>\n",
       "      <th>3</th>\n",
       "      <td>wagon r</td>\n",
       "      <td>2011</td>\n",
       "      <td>2.85</td>\n",
       "      <td>4.15</td>\n",
       "      <td>5200</td>\n",
       "      <td>Petrol</td>\n",
       "      <td>Dealer</td>\n",
       "      <td>Manual</td>\n",
       "      <td>0</td>\n",
       "    </tr>\n",
       "    <tr>\n",
       "      <th>4</th>\n",
       "      <td>swift</td>\n",
       "      <td>2014</td>\n",
       "      <td>4.60</td>\n",
       "      <td>6.87</td>\n",
       "      <td>42450</td>\n",
       "      <td>Diesel</td>\n",
       "      <td>Dealer</td>\n",
       "      <td>Manual</td>\n",
       "      <td>0</td>\n",
       "    </tr>\n",
       "    <tr>\n",
       "      <th>...</th>\n",
       "      <td>...</td>\n",
       "      <td>...</td>\n",
       "      <td>...</td>\n",
       "      <td>...</td>\n",
       "      <td>...</td>\n",
       "      <td>...</td>\n",
       "      <td>...</td>\n",
       "      <td>...</td>\n",
       "      <td>...</td>\n",
       "    </tr>\n",
       "    <tr>\n",
       "      <th>296</th>\n",
       "      <td>city</td>\n",
       "      <td>2016</td>\n",
       "      <td>9.50</td>\n",
       "      <td>11.60</td>\n",
       "      <td>33988</td>\n",
       "      <td>Diesel</td>\n",
       "      <td>Dealer</td>\n",
       "      <td>Manual</td>\n",
       "      <td>0</td>\n",
       "    </tr>\n",
       "    <tr>\n",
       "      <th>297</th>\n",
       "      <td>brio</td>\n",
       "      <td>2015</td>\n",
       "      <td>4.00</td>\n",
       "      <td>5.90</td>\n",
       "      <td>60000</td>\n",
       "      <td>Petrol</td>\n",
       "      <td>Dealer</td>\n",
       "      <td>Manual</td>\n",
       "      <td>0</td>\n",
       "    </tr>\n",
       "    <tr>\n",
       "      <th>298</th>\n",
       "      <td>city</td>\n",
       "      <td>2009</td>\n",
       "      <td>3.35</td>\n",
       "      <td>11.00</td>\n",
       "      <td>87934</td>\n",
       "      <td>Petrol</td>\n",
       "      <td>Dealer</td>\n",
       "      <td>Manual</td>\n",
       "      <td>0</td>\n",
       "    </tr>\n",
       "    <tr>\n",
       "      <th>299</th>\n",
       "      <td>city</td>\n",
       "      <td>2017</td>\n",
       "      <td>11.50</td>\n",
       "      <td>12.50</td>\n",
       "      <td>9000</td>\n",
       "      <td>Diesel</td>\n",
       "      <td>Dealer</td>\n",
       "      <td>Manual</td>\n",
       "      <td>0</td>\n",
       "    </tr>\n",
       "    <tr>\n",
       "      <th>300</th>\n",
       "      <td>brio</td>\n",
       "      <td>2016</td>\n",
       "      <td>5.30</td>\n",
       "      <td>5.90</td>\n",
       "      <td>5464</td>\n",
       "      <td>Petrol</td>\n",
       "      <td>Dealer</td>\n",
       "      <td>Manual</td>\n",
       "      <td>0</td>\n",
       "    </tr>\n",
       "  </tbody>\n",
       "</table>\n",
       "<p>301 rows × 9 columns</p>\n",
       "</div>"
      ],
      "text/plain": [
       "    Car_Name  Year  Selling_Price  Present_Price  Kms_Driven Fuel_Type  \\\n",
       "0       ritz  2014           3.35           5.59       27000    Petrol   \n",
       "1        sx4  2013           4.75           9.54       43000    Diesel   \n",
       "2       ciaz  2017           7.25           9.85        6900    Petrol   \n",
       "3    wagon r  2011           2.85           4.15        5200    Petrol   \n",
       "4      swift  2014           4.60           6.87       42450    Diesel   \n",
       "..       ...   ...            ...            ...         ...       ...   \n",
       "296     city  2016           9.50          11.60       33988    Diesel   \n",
       "297     brio  2015           4.00           5.90       60000    Petrol   \n",
       "298     city  2009           3.35          11.00       87934    Petrol   \n",
       "299     city  2017          11.50          12.50        9000    Diesel   \n",
       "300     brio  2016           5.30           5.90        5464    Petrol   \n",
       "\n",
       "    Seller_Type Transmission  Owner  \n",
       "0        Dealer       Manual      0  \n",
       "1        Dealer       Manual      0  \n",
       "2        Dealer       Manual      0  \n",
       "3        Dealer       Manual      0  \n",
       "4        Dealer       Manual      0  \n",
       "..          ...          ...    ...  \n",
       "296      Dealer       Manual      0  \n",
       "297      Dealer       Manual      0  \n",
       "298      Dealer       Manual      0  \n",
       "299      Dealer       Manual      0  \n",
       "300      Dealer       Manual      0  \n",
       "\n",
       "[301 rows x 9 columns]"
      ]
     },
     "execution_count": 4,
     "metadata": {},
     "output_type": "execute_result"
    }
   ],
   "source": [
    "vehicle_data"
   ]
  },
  {
   "cell_type": "code",
   "execution_count": 5,
   "id": "1081dd2c",
   "metadata": {
    "execution": {
     "iopub.execute_input": "2022-08-28T12:02:31.510780Z",
     "iopub.status.busy": "2022-08-28T12:02:31.510116Z",
     "iopub.status.idle": "2022-08-28T12:02:31.532959Z",
     "shell.execute_reply": "2022-08-28T12:02:31.531757Z"
    },
    "papermill": {
     "duration": 0.039153,
     "end_time": "2022-08-28T12:02:31.535815",
     "exception": false,
     "start_time": "2022-08-28T12:02:31.496662",
     "status": "completed"
    },
    "tags": []
   },
   "outputs": [
    {
     "name": "stdout",
     "output_type": "stream",
     "text": [
      "<class 'pandas.core.frame.DataFrame'>\n",
      "RangeIndex: 301 entries, 0 to 300\n",
      "Data columns (total 9 columns):\n",
      " #   Column         Non-Null Count  Dtype  \n",
      "---  ------         --------------  -----  \n",
      " 0   Car_Name       301 non-null    object \n",
      " 1   Year           301 non-null    int64  \n",
      " 2   Selling_Price  301 non-null    float64\n",
      " 3   Present_Price  301 non-null    float64\n",
      " 4   Kms_Driven     301 non-null    int64  \n",
      " 5   Fuel_Type      301 non-null    object \n",
      " 6   Seller_Type    301 non-null    object \n",
      " 7   Transmission   301 non-null    object \n",
      " 8   Owner          301 non-null    int64  \n",
      "dtypes: float64(2), int64(3), object(4)\n",
      "memory usage: 21.3+ KB\n"
     ]
    }
   ],
   "source": [
    "# Information about data present in Dataset\n",
    "vehicle_data.info()"
   ]
  },
  {
   "cell_type": "code",
   "execution_count": 6,
   "id": "d9875c17",
   "metadata": {
    "execution": {
     "iopub.execute_input": "2022-08-28T12:02:31.562166Z",
     "iopub.status.busy": "2022-08-28T12:02:31.561744Z",
     "iopub.status.idle": "2022-08-28T12:02:31.589336Z",
     "shell.execute_reply": "2022-08-28T12:02:31.588198Z"
    },
    "papermill": {
     "duration": 0.043553,
     "end_time": "2022-08-28T12:02:31.591780",
     "exception": false,
     "start_time": "2022-08-28T12:02:31.548227",
     "status": "completed"
    },
    "tags": []
   },
   "outputs": [
    {
     "data": {
      "text/html": [
       "<div>\n",
       "<style scoped>\n",
       "    .dataframe tbody tr th:only-of-type {\n",
       "        vertical-align: middle;\n",
       "    }\n",
       "\n",
       "    .dataframe tbody tr th {\n",
       "        vertical-align: top;\n",
       "    }\n",
       "\n",
       "    .dataframe thead th {\n",
       "        text-align: right;\n",
       "    }\n",
       "</style>\n",
       "<table border=\"1\" class=\"dataframe\">\n",
       "  <thead>\n",
       "    <tr style=\"text-align: right;\">\n",
       "      <th></th>\n",
       "      <th>Year</th>\n",
       "      <th>Selling_Price</th>\n",
       "      <th>Present_Price</th>\n",
       "      <th>Kms_Driven</th>\n",
       "      <th>Owner</th>\n",
       "    </tr>\n",
       "  </thead>\n",
       "  <tbody>\n",
       "    <tr>\n",
       "      <th>count</th>\n",
       "      <td>301.000000</td>\n",
       "      <td>301.000000</td>\n",
       "      <td>301.000000</td>\n",
       "      <td>301.000000</td>\n",
       "      <td>301.000000</td>\n",
       "    </tr>\n",
       "    <tr>\n",
       "      <th>mean</th>\n",
       "      <td>2013.627907</td>\n",
       "      <td>4.661296</td>\n",
       "      <td>7.628472</td>\n",
       "      <td>36947.205980</td>\n",
       "      <td>0.043189</td>\n",
       "    </tr>\n",
       "    <tr>\n",
       "      <th>std</th>\n",
       "      <td>2.891554</td>\n",
       "      <td>5.082812</td>\n",
       "      <td>8.644115</td>\n",
       "      <td>38886.883882</td>\n",
       "      <td>0.247915</td>\n",
       "    </tr>\n",
       "    <tr>\n",
       "      <th>min</th>\n",
       "      <td>2003.000000</td>\n",
       "      <td>0.100000</td>\n",
       "      <td>0.320000</td>\n",
       "      <td>500.000000</td>\n",
       "      <td>0.000000</td>\n",
       "    </tr>\n",
       "    <tr>\n",
       "      <th>25%</th>\n",
       "      <td>2012.000000</td>\n",
       "      <td>0.900000</td>\n",
       "      <td>1.200000</td>\n",
       "      <td>15000.000000</td>\n",
       "      <td>0.000000</td>\n",
       "    </tr>\n",
       "    <tr>\n",
       "      <th>50%</th>\n",
       "      <td>2014.000000</td>\n",
       "      <td>3.600000</td>\n",
       "      <td>6.400000</td>\n",
       "      <td>32000.000000</td>\n",
       "      <td>0.000000</td>\n",
       "    </tr>\n",
       "    <tr>\n",
       "      <th>75%</th>\n",
       "      <td>2016.000000</td>\n",
       "      <td>6.000000</td>\n",
       "      <td>9.900000</td>\n",
       "      <td>48767.000000</td>\n",
       "      <td>0.000000</td>\n",
       "    </tr>\n",
       "    <tr>\n",
       "      <th>max</th>\n",
       "      <td>2018.000000</td>\n",
       "      <td>35.000000</td>\n",
       "      <td>92.600000</td>\n",
       "      <td>500000.000000</td>\n",
       "      <td>3.000000</td>\n",
       "    </tr>\n",
       "  </tbody>\n",
       "</table>\n",
       "</div>"
      ],
      "text/plain": [
       "              Year  Selling_Price  Present_Price     Kms_Driven       Owner\n",
       "count   301.000000     301.000000     301.000000     301.000000  301.000000\n",
       "mean   2013.627907       4.661296       7.628472   36947.205980    0.043189\n",
       "std       2.891554       5.082812       8.644115   38886.883882    0.247915\n",
       "min    2003.000000       0.100000       0.320000     500.000000    0.000000\n",
       "25%    2012.000000       0.900000       1.200000   15000.000000    0.000000\n",
       "50%    2014.000000       3.600000       6.400000   32000.000000    0.000000\n",
       "75%    2016.000000       6.000000       9.900000   48767.000000    0.000000\n",
       "max    2018.000000      35.000000      92.600000  500000.000000    3.000000"
      ]
     },
     "execution_count": 6,
     "metadata": {},
     "output_type": "execute_result"
    }
   ],
   "source": [
    "# Statistical information about features present in a dataset\n",
    "vehicle_data.describe()"
   ]
  },
  {
   "cell_type": "code",
   "execution_count": 7,
   "id": "b73d45e4",
   "metadata": {
    "execution": {
     "iopub.execute_input": "2022-08-28T12:02:31.618504Z",
     "iopub.status.busy": "2022-08-28T12:02:31.617691Z",
     "iopub.status.idle": "2022-08-28T12:02:31.627696Z",
     "shell.execute_reply": "2022-08-28T12:02:31.626587Z"
    },
    "papermill": {
     "duration": 0.025707,
     "end_time": "2022-08-28T12:02:31.630046",
     "exception": false,
     "start_time": "2022-08-28T12:02:31.604339",
     "status": "completed"
    },
    "tags": []
   },
   "outputs": [
    {
     "data": {
      "text/plain": [
       "Car_Name         0\n",
       "Year             0\n",
       "Selling_Price    0\n",
       "Present_Price    0\n",
       "Kms_Driven       0\n",
       "Fuel_Type        0\n",
       "Seller_Type      0\n",
       "Transmission     0\n",
       "Owner            0\n",
       "dtype: int64"
      ]
     },
     "execution_count": 7,
     "metadata": {},
     "output_type": "execute_result"
    }
   ],
   "source": [
    "# Now we are going to check for missing or null values in a dataset\n",
    "vehicle_data.isnull().sum()"
   ]
  },
  {
   "cell_type": "code",
   "execution_count": 8,
   "id": "4f985677",
   "metadata": {
    "execution": {
     "iopub.execute_input": "2022-08-28T12:02:31.656148Z",
     "iopub.status.busy": "2022-08-28T12:02:31.655723Z",
     "iopub.status.idle": "2022-08-28T12:02:31.667777Z",
     "shell.execute_reply": "2022-08-28T12:02:31.666528Z"
    },
    "papermill": {
     "duration": 0.028056,
     "end_time": "2022-08-28T12:02:31.670397",
     "exception": false,
     "start_time": "2022-08-28T12:02:31.642341",
     "status": "completed"
    },
    "tags": []
   },
   "outputs": [
    {
     "data": {
      "text/plain": [
       "2"
      ]
     },
     "execution_count": 8,
     "metadata": {},
     "output_type": "execute_result"
    }
   ],
   "source": [
    "# now we check for duplicated values in a data set\n",
    "vehicle_data.duplicated().sum()"
   ]
  },
  {
   "cell_type": "code",
   "execution_count": 9,
   "id": "d86aada8",
   "metadata": {
    "execution": {
     "iopub.execute_input": "2022-08-28T12:02:31.703502Z",
     "iopub.status.busy": "2022-08-28T12:02:31.703131Z",
     "iopub.status.idle": "2022-08-28T12:02:31.724852Z",
     "shell.execute_reply": "2022-08-28T12:02:31.723350Z"
    },
    "papermill": {
     "duration": 0.040922,
     "end_time": "2022-08-28T12:02:31.728599",
     "exception": false,
     "start_time": "2022-08-28T12:02:31.687677",
     "status": "completed"
    },
    "tags": []
   },
   "outputs": [
    {
     "data": {
      "text/html": [
       "<div>\n",
       "<style scoped>\n",
       "    .dataframe tbody tr th:only-of-type {\n",
       "        vertical-align: middle;\n",
       "    }\n",
       "\n",
       "    .dataframe tbody tr th {\n",
       "        vertical-align: top;\n",
       "    }\n",
       "\n",
       "    .dataframe thead th {\n",
       "        text-align: right;\n",
       "    }\n",
       "</style>\n",
       "<table border=\"1\" class=\"dataframe\">\n",
       "  <thead>\n",
       "    <tr style=\"text-align: right;\">\n",
       "      <th></th>\n",
       "      <th>Car_Name</th>\n",
       "      <th>Year</th>\n",
       "      <th>Selling_Price</th>\n",
       "      <th>Present_Price</th>\n",
       "      <th>Kms_Driven</th>\n",
       "      <th>Fuel_Type</th>\n",
       "      <th>Seller_Type</th>\n",
       "      <th>Transmission</th>\n",
       "      <th>Owner</th>\n",
       "    </tr>\n",
       "  </thead>\n",
       "  <tbody>\n",
       "    <tr>\n",
       "      <th>17</th>\n",
       "      <td>ertiga</td>\n",
       "      <td>2016</td>\n",
       "      <td>7.75</td>\n",
       "      <td>10.79</td>\n",
       "      <td>43000</td>\n",
       "      <td>Diesel</td>\n",
       "      <td>Dealer</td>\n",
       "      <td>Manual</td>\n",
       "      <td>0</td>\n",
       "    </tr>\n",
       "    <tr>\n",
       "      <th>93</th>\n",
       "      <td>fortuner</td>\n",
       "      <td>2015</td>\n",
       "      <td>23.00</td>\n",
       "      <td>30.61</td>\n",
       "      <td>40000</td>\n",
       "      <td>Diesel</td>\n",
       "      <td>Dealer</td>\n",
       "      <td>Automatic</td>\n",
       "      <td>0</td>\n",
       "    </tr>\n",
       "  </tbody>\n",
       "</table>\n",
       "</div>"
      ],
      "text/plain": [
       "    Car_Name  Year  Selling_Price  Present_Price  Kms_Driven Fuel_Type  \\\n",
       "17    ertiga  2016           7.75          10.79       43000    Diesel   \n",
       "93  fortuner  2015          23.00          30.61       40000    Diesel   \n",
       "\n",
       "   Seller_Type Transmission  Owner  \n",
       "17      Dealer       Manual      0  \n",
       "93      Dealer    Automatic      0  "
      ]
     },
     "execution_count": 9,
     "metadata": {},
     "output_type": "execute_result"
    }
   ],
   "source": [
    "# We are checking for 2 duplicates values in the dataset\n",
    "vehicle_data[vehicle_data.duplicated()]"
   ]
  },
  {
   "cell_type": "code",
   "execution_count": 10,
   "id": "53fa527a",
   "metadata": {
    "execution": {
     "iopub.execute_input": "2022-08-28T12:02:31.764749Z",
     "iopub.status.busy": "2022-08-28T12:02:31.763811Z",
     "iopub.status.idle": "2022-08-28T12:02:31.789638Z",
     "shell.execute_reply": "2022-08-28T12:02:31.788546Z"
    },
    "papermill": {
     "duration": 0.044002,
     "end_time": "2022-08-28T12:02:31.792873",
     "exception": false,
     "start_time": "2022-08-28T12:02:31.748871",
     "status": "completed"
    },
    "tags": []
   },
   "outputs": [
    {
     "data": {
      "text/html": [
       "<div>\n",
       "<style scoped>\n",
       "    .dataframe tbody tr th:only-of-type {\n",
       "        vertical-align: middle;\n",
       "    }\n",
       "\n",
       "    .dataframe tbody tr th {\n",
       "        vertical-align: top;\n",
       "    }\n",
       "\n",
       "    .dataframe thead th {\n",
       "        text-align: right;\n",
       "    }\n",
       "</style>\n",
       "<table border=\"1\" class=\"dataframe\">\n",
       "  <thead>\n",
       "    <tr style=\"text-align: right;\">\n",
       "      <th></th>\n",
       "      <th>Car_Name</th>\n",
       "      <th>Year</th>\n",
       "      <th>Selling_Price</th>\n",
       "      <th>Present_Price</th>\n",
       "      <th>Kms_Driven</th>\n",
       "      <th>Fuel_Type</th>\n",
       "      <th>Seller_Type</th>\n",
       "      <th>Transmission</th>\n",
       "      <th>Owner</th>\n",
       "    </tr>\n",
       "  </thead>\n",
       "  <tbody>\n",
       "    <tr>\n",
       "      <th>0</th>\n",
       "      <td>ritz</td>\n",
       "      <td>2014</td>\n",
       "      <td>3.35</td>\n",
       "      <td>5.59</td>\n",
       "      <td>27000</td>\n",
       "      <td>Petrol</td>\n",
       "      <td>Dealer</td>\n",
       "      <td>Manual</td>\n",
       "      <td>0</td>\n",
       "    </tr>\n",
       "    <tr>\n",
       "      <th>1</th>\n",
       "      <td>sx4</td>\n",
       "      <td>2013</td>\n",
       "      <td>4.75</td>\n",
       "      <td>9.54</td>\n",
       "      <td>43000</td>\n",
       "      <td>Diesel</td>\n",
       "      <td>Dealer</td>\n",
       "      <td>Manual</td>\n",
       "      <td>0</td>\n",
       "    </tr>\n",
       "    <tr>\n",
       "      <th>2</th>\n",
       "      <td>ciaz</td>\n",
       "      <td>2017</td>\n",
       "      <td>7.25</td>\n",
       "      <td>9.85</td>\n",
       "      <td>6900</td>\n",
       "      <td>Petrol</td>\n",
       "      <td>Dealer</td>\n",
       "      <td>Manual</td>\n",
       "      <td>0</td>\n",
       "    </tr>\n",
       "    <tr>\n",
       "      <th>3</th>\n",
       "      <td>wagon r</td>\n",
       "      <td>2011</td>\n",
       "      <td>2.85</td>\n",
       "      <td>4.15</td>\n",
       "      <td>5200</td>\n",
       "      <td>Petrol</td>\n",
       "      <td>Dealer</td>\n",
       "      <td>Manual</td>\n",
       "      <td>0</td>\n",
       "    </tr>\n",
       "    <tr>\n",
       "      <th>4</th>\n",
       "      <td>swift</td>\n",
       "      <td>2014</td>\n",
       "      <td>4.60</td>\n",
       "      <td>6.87</td>\n",
       "      <td>42450</td>\n",
       "      <td>Diesel</td>\n",
       "      <td>Dealer</td>\n",
       "      <td>Manual</td>\n",
       "      <td>0</td>\n",
       "    </tr>\n",
       "    <tr>\n",
       "      <th>...</th>\n",
       "      <td>...</td>\n",
       "      <td>...</td>\n",
       "      <td>...</td>\n",
       "      <td>...</td>\n",
       "      <td>...</td>\n",
       "      <td>...</td>\n",
       "      <td>...</td>\n",
       "      <td>...</td>\n",
       "      <td>...</td>\n",
       "    </tr>\n",
       "    <tr>\n",
       "      <th>296</th>\n",
       "      <td>city</td>\n",
       "      <td>2016</td>\n",
       "      <td>9.50</td>\n",
       "      <td>11.60</td>\n",
       "      <td>33988</td>\n",
       "      <td>Diesel</td>\n",
       "      <td>Dealer</td>\n",
       "      <td>Manual</td>\n",
       "      <td>0</td>\n",
       "    </tr>\n",
       "    <tr>\n",
       "      <th>297</th>\n",
       "      <td>brio</td>\n",
       "      <td>2015</td>\n",
       "      <td>4.00</td>\n",
       "      <td>5.90</td>\n",
       "      <td>60000</td>\n",
       "      <td>Petrol</td>\n",
       "      <td>Dealer</td>\n",
       "      <td>Manual</td>\n",
       "      <td>0</td>\n",
       "    </tr>\n",
       "    <tr>\n",
       "      <th>298</th>\n",
       "      <td>city</td>\n",
       "      <td>2009</td>\n",
       "      <td>3.35</td>\n",
       "      <td>11.00</td>\n",
       "      <td>87934</td>\n",
       "      <td>Petrol</td>\n",
       "      <td>Dealer</td>\n",
       "      <td>Manual</td>\n",
       "      <td>0</td>\n",
       "    </tr>\n",
       "    <tr>\n",
       "      <th>299</th>\n",
       "      <td>city</td>\n",
       "      <td>2017</td>\n",
       "      <td>11.50</td>\n",
       "      <td>12.50</td>\n",
       "      <td>9000</td>\n",
       "      <td>Diesel</td>\n",
       "      <td>Dealer</td>\n",
       "      <td>Manual</td>\n",
       "      <td>0</td>\n",
       "    </tr>\n",
       "    <tr>\n",
       "      <th>300</th>\n",
       "      <td>brio</td>\n",
       "      <td>2016</td>\n",
       "      <td>5.30</td>\n",
       "      <td>5.90</td>\n",
       "      <td>5464</td>\n",
       "      <td>Petrol</td>\n",
       "      <td>Dealer</td>\n",
       "      <td>Manual</td>\n",
       "      <td>0</td>\n",
       "    </tr>\n",
       "  </tbody>\n",
       "</table>\n",
       "<p>299 rows × 9 columns</p>\n",
       "</div>"
      ],
      "text/plain": [
       "    Car_Name  Year  Selling_Price  Present_Price  Kms_Driven Fuel_Type  \\\n",
       "0       ritz  2014           3.35           5.59       27000    Petrol   \n",
       "1        sx4  2013           4.75           9.54       43000    Diesel   \n",
       "2       ciaz  2017           7.25           9.85        6900    Petrol   \n",
       "3    wagon r  2011           2.85           4.15        5200    Petrol   \n",
       "4      swift  2014           4.60           6.87       42450    Diesel   \n",
       "..       ...   ...            ...            ...         ...       ...   \n",
       "296     city  2016           9.50          11.60       33988    Diesel   \n",
       "297     brio  2015           4.00           5.90       60000    Petrol   \n",
       "298     city  2009           3.35          11.00       87934    Petrol   \n",
       "299     city  2017          11.50          12.50        9000    Diesel   \n",
       "300     brio  2016           5.30           5.90        5464    Petrol   \n",
       "\n",
       "    Seller_Type Transmission  Owner  \n",
       "0        Dealer       Manual      0  \n",
       "1        Dealer       Manual      0  \n",
       "2        Dealer       Manual      0  \n",
       "3        Dealer       Manual      0  \n",
       "4        Dealer       Manual      0  \n",
       "..          ...          ...    ...  \n",
       "296      Dealer       Manual      0  \n",
       "297      Dealer       Manual      0  \n",
       "298      Dealer       Manual      0  \n",
       "299      Dealer       Manual      0  \n",
       "300      Dealer       Manual      0  \n",
       "\n",
       "[299 rows x 9 columns]"
      ]
     },
     "execution_count": 10,
     "metadata": {},
     "output_type": "execute_result"
    }
   ],
   "source": [
    "# We are dropping duplicate values from dataset\n",
    "vehicle_data.drop_duplicates()"
   ]
  },
  {
   "cell_type": "code",
   "execution_count": 11,
   "id": "251949bc",
   "metadata": {
    "execution": {
     "iopub.execute_input": "2022-08-28T12:02:31.827527Z",
     "iopub.status.busy": "2022-08-28T12:02:31.827167Z",
     "iopub.status.idle": "2022-08-28T12:02:31.850874Z",
     "shell.execute_reply": "2022-08-28T12:02:31.849918Z"
    },
    "papermill": {
     "duration": 0.042105,
     "end_time": "2022-08-28T12:02:31.853393",
     "exception": false,
     "start_time": "2022-08-28T12:02:31.811288",
     "status": "completed"
    },
    "tags": []
   },
   "outputs": [
    {
     "data": {
      "text/html": [
       "<div>\n",
       "<style scoped>\n",
       "    .dataframe tbody tr th:only-of-type {\n",
       "        vertical-align: middle;\n",
       "    }\n",
       "\n",
       "    .dataframe tbody tr th {\n",
       "        vertical-align: top;\n",
       "    }\n",
       "\n",
       "    .dataframe thead th {\n",
       "        text-align: right;\n",
       "    }\n",
       "</style>\n",
       "<table border=\"1\" class=\"dataframe\">\n",
       "  <thead>\n",
       "    <tr style=\"text-align: right;\">\n",
       "      <th></th>\n",
       "      <th>Car_Name</th>\n",
       "      <th>Year</th>\n",
       "      <th>Selling_Price</th>\n",
       "      <th>Present_Price</th>\n",
       "      <th>Kms_Driven</th>\n",
       "      <th>Fuel_Type</th>\n",
       "      <th>Seller_Type</th>\n",
       "      <th>Transmission</th>\n",
       "      <th>Owner</th>\n",
       "    </tr>\n",
       "  </thead>\n",
       "  <tbody>\n",
       "    <tr>\n",
       "      <th>0</th>\n",
       "      <td>ritz</td>\n",
       "      <td>2014</td>\n",
       "      <td>3.35</td>\n",
       "      <td>5.59</td>\n",
       "      <td>27000</td>\n",
       "      <td>Petrol</td>\n",
       "      <td>Dealer</td>\n",
       "      <td>Manual</td>\n",
       "      <td>0</td>\n",
       "    </tr>\n",
       "    <tr>\n",
       "      <th>1</th>\n",
       "      <td>sx4</td>\n",
       "      <td>2013</td>\n",
       "      <td>4.75</td>\n",
       "      <td>9.54</td>\n",
       "      <td>43000</td>\n",
       "      <td>Diesel</td>\n",
       "      <td>Dealer</td>\n",
       "      <td>Manual</td>\n",
       "      <td>0</td>\n",
       "    </tr>\n",
       "    <tr>\n",
       "      <th>2</th>\n",
       "      <td>ciaz</td>\n",
       "      <td>2017</td>\n",
       "      <td>7.25</td>\n",
       "      <td>9.85</td>\n",
       "      <td>6900</td>\n",
       "      <td>Petrol</td>\n",
       "      <td>Dealer</td>\n",
       "      <td>Manual</td>\n",
       "      <td>0</td>\n",
       "    </tr>\n",
       "    <tr>\n",
       "      <th>3</th>\n",
       "      <td>wagon r</td>\n",
       "      <td>2011</td>\n",
       "      <td>2.85</td>\n",
       "      <td>4.15</td>\n",
       "      <td>5200</td>\n",
       "      <td>Petrol</td>\n",
       "      <td>Dealer</td>\n",
       "      <td>Manual</td>\n",
       "      <td>0</td>\n",
       "    </tr>\n",
       "    <tr>\n",
       "      <th>4</th>\n",
       "      <td>swift</td>\n",
       "      <td>2014</td>\n",
       "      <td>4.60</td>\n",
       "      <td>6.87</td>\n",
       "      <td>42450</td>\n",
       "      <td>Diesel</td>\n",
       "      <td>Dealer</td>\n",
       "      <td>Manual</td>\n",
       "      <td>0</td>\n",
       "    </tr>\n",
       "    <tr>\n",
       "      <th>...</th>\n",
       "      <td>...</td>\n",
       "      <td>...</td>\n",
       "      <td>...</td>\n",
       "      <td>...</td>\n",
       "      <td>...</td>\n",
       "      <td>...</td>\n",
       "      <td>...</td>\n",
       "      <td>...</td>\n",
       "      <td>...</td>\n",
       "    </tr>\n",
       "    <tr>\n",
       "      <th>296</th>\n",
       "      <td>city</td>\n",
       "      <td>2016</td>\n",
       "      <td>9.50</td>\n",
       "      <td>11.60</td>\n",
       "      <td>33988</td>\n",
       "      <td>Diesel</td>\n",
       "      <td>Dealer</td>\n",
       "      <td>Manual</td>\n",
       "      <td>0</td>\n",
       "    </tr>\n",
       "    <tr>\n",
       "      <th>297</th>\n",
       "      <td>brio</td>\n",
       "      <td>2015</td>\n",
       "      <td>4.00</td>\n",
       "      <td>5.90</td>\n",
       "      <td>60000</td>\n",
       "      <td>Petrol</td>\n",
       "      <td>Dealer</td>\n",
       "      <td>Manual</td>\n",
       "      <td>0</td>\n",
       "    </tr>\n",
       "    <tr>\n",
       "      <th>298</th>\n",
       "      <td>city</td>\n",
       "      <td>2009</td>\n",
       "      <td>3.35</td>\n",
       "      <td>11.00</td>\n",
       "      <td>87934</td>\n",
       "      <td>Petrol</td>\n",
       "      <td>Dealer</td>\n",
       "      <td>Manual</td>\n",
       "      <td>0</td>\n",
       "    </tr>\n",
       "    <tr>\n",
       "      <th>299</th>\n",
       "      <td>city</td>\n",
       "      <td>2017</td>\n",
       "      <td>11.50</td>\n",
       "      <td>12.50</td>\n",
       "      <td>9000</td>\n",
       "      <td>Diesel</td>\n",
       "      <td>Dealer</td>\n",
       "      <td>Manual</td>\n",
       "      <td>0</td>\n",
       "    </tr>\n",
       "    <tr>\n",
       "      <th>300</th>\n",
       "      <td>brio</td>\n",
       "      <td>2016</td>\n",
       "      <td>5.30</td>\n",
       "      <td>5.90</td>\n",
       "      <td>5464</td>\n",
       "      <td>Petrol</td>\n",
       "      <td>Dealer</td>\n",
       "      <td>Manual</td>\n",
       "      <td>0</td>\n",
       "    </tr>\n",
       "  </tbody>\n",
       "</table>\n",
       "<p>301 rows × 9 columns</p>\n",
       "</div>"
      ],
      "text/plain": [
       "    Car_Name  Year  Selling_Price  Present_Price  Kms_Driven Fuel_Type  \\\n",
       "0       ritz  2014           3.35           5.59       27000    Petrol   \n",
       "1        sx4  2013           4.75           9.54       43000    Diesel   \n",
       "2       ciaz  2017           7.25           9.85        6900    Petrol   \n",
       "3    wagon r  2011           2.85           4.15        5200    Petrol   \n",
       "4      swift  2014           4.60           6.87       42450    Diesel   \n",
       "..       ...   ...            ...            ...         ...       ...   \n",
       "296     city  2016           9.50          11.60       33988    Diesel   \n",
       "297     brio  2015           4.00           5.90       60000    Petrol   \n",
       "298     city  2009           3.35          11.00       87934    Petrol   \n",
       "299     city  2017          11.50          12.50        9000    Diesel   \n",
       "300     brio  2016           5.30           5.90        5464    Petrol   \n",
       "\n",
       "    Seller_Type Transmission  Owner  \n",
       "0        Dealer       Manual      0  \n",
       "1        Dealer       Manual      0  \n",
       "2        Dealer       Manual      0  \n",
       "3        Dealer       Manual      0  \n",
       "4        Dealer       Manual      0  \n",
       "..          ...          ...    ...  \n",
       "296      Dealer       Manual      0  \n",
       "297      Dealer       Manual      0  \n",
       "298      Dealer       Manual      0  \n",
       "299      Dealer       Manual      0  \n",
       "300      Dealer       Manual      0  \n",
       "\n",
       "[301 rows x 9 columns]"
      ]
     },
     "execution_count": 11,
     "metadata": {},
     "output_type": "execute_result"
    }
   ],
   "source": [
    "vehicle_data.reset_index(drop=True)"
   ]
  },
  {
   "cell_type": "markdown",
   "id": "017fb2d1",
   "metadata": {
    "papermill": {
     "duration": 0.012757,
     "end_time": "2022-08-28T12:02:31.880881",
     "exception": false,
     "start_time": "2022-08-28T12:02:31.868124",
     "status": "completed"
    },
    "tags": []
   },
   "source": [
    "this data set contain a column named as year this shows the launched year of car. in current form this data is not valuable for analysis. so we create a new features by using this features to extract valuable information. so we going to create a new feature \"Current_Year\", temperorily so we can subtract the value of launched year from current year in order to get car_age."
   ]
  },
  {
   "cell_type": "code",
   "execution_count": 12,
   "id": "60634254",
   "metadata": {
    "execution": {
     "iopub.execute_input": "2022-08-28T12:02:31.908826Z",
     "iopub.status.busy": "2022-08-28T12:02:31.908413Z",
     "iopub.status.idle": "2022-08-28T12:02:31.914519Z",
     "shell.execute_reply": "2022-08-28T12:02:31.913261Z"
    },
    "papermill": {
     "duration": 0.022741,
     "end_time": "2022-08-28T12:02:31.916828",
     "exception": false,
     "start_time": "2022-08-28T12:02:31.894087",
     "status": "completed"
    },
    "tags": []
   },
   "outputs": [],
   "source": [
    "vehicle_data['Current_Year']=2022"
   ]
  },
  {
   "cell_type": "code",
   "execution_count": 13,
   "id": "894af798",
   "metadata": {
    "execution": {
     "iopub.execute_input": "2022-08-28T12:02:31.945833Z",
     "iopub.status.busy": "2022-08-28T12:02:31.945450Z",
     "iopub.status.idle": "2022-08-28T12:02:31.951344Z",
     "shell.execute_reply": "2022-08-28T12:02:31.950491Z"
    },
    "papermill": {
     "duration": 0.023021,
     "end_time": "2022-08-28T12:02:31.953581",
     "exception": false,
     "start_time": "2022-08-28T12:02:31.930560",
     "status": "completed"
    },
    "tags": []
   },
   "outputs": [],
   "source": [
    "vehicle_data['Car_Age']=vehicle_data['Current_Year'] - vehicle_data['Year']"
   ]
  },
  {
   "cell_type": "code",
   "execution_count": 14,
   "id": "7ad2992d",
   "metadata": {
    "execution": {
     "iopub.execute_input": "2022-08-28T12:02:31.982764Z",
     "iopub.status.busy": "2022-08-28T12:02:31.982382Z",
     "iopub.status.idle": "2022-08-28T12:02:31.998220Z",
     "shell.execute_reply": "2022-08-28T12:02:31.997059Z"
    },
    "papermill": {
     "duration": 0.033253,
     "end_time": "2022-08-28T12:02:32.000425",
     "exception": false,
     "start_time": "2022-08-28T12:02:31.967172",
     "status": "completed"
    },
    "tags": []
   },
   "outputs": [
    {
     "data": {
      "text/html": [
       "<div>\n",
       "<style scoped>\n",
       "    .dataframe tbody tr th:only-of-type {\n",
       "        vertical-align: middle;\n",
       "    }\n",
       "\n",
       "    .dataframe tbody tr th {\n",
       "        vertical-align: top;\n",
       "    }\n",
       "\n",
       "    .dataframe thead th {\n",
       "        text-align: right;\n",
       "    }\n",
       "</style>\n",
       "<table border=\"1\" class=\"dataframe\">\n",
       "  <thead>\n",
       "    <tr style=\"text-align: right;\">\n",
       "      <th></th>\n",
       "      <th>Car_Name</th>\n",
       "      <th>Year</th>\n",
       "      <th>Selling_Price</th>\n",
       "      <th>Present_Price</th>\n",
       "      <th>Kms_Driven</th>\n",
       "      <th>Fuel_Type</th>\n",
       "      <th>Seller_Type</th>\n",
       "      <th>Transmission</th>\n",
       "      <th>Owner</th>\n",
       "      <th>Current_Year</th>\n",
       "      <th>Car_Age</th>\n",
       "    </tr>\n",
       "  </thead>\n",
       "  <tbody>\n",
       "    <tr>\n",
       "      <th>0</th>\n",
       "      <td>ritz</td>\n",
       "      <td>2014</td>\n",
       "      <td>3.35</td>\n",
       "      <td>5.59</td>\n",
       "      <td>27000</td>\n",
       "      <td>Petrol</td>\n",
       "      <td>Dealer</td>\n",
       "      <td>Manual</td>\n",
       "      <td>0</td>\n",
       "      <td>2022</td>\n",
       "      <td>8</td>\n",
       "    </tr>\n",
       "    <tr>\n",
       "      <th>1</th>\n",
       "      <td>sx4</td>\n",
       "      <td>2013</td>\n",
       "      <td>4.75</td>\n",
       "      <td>9.54</td>\n",
       "      <td>43000</td>\n",
       "      <td>Diesel</td>\n",
       "      <td>Dealer</td>\n",
       "      <td>Manual</td>\n",
       "      <td>0</td>\n",
       "      <td>2022</td>\n",
       "      <td>9</td>\n",
       "    </tr>\n",
       "    <tr>\n",
       "      <th>2</th>\n",
       "      <td>ciaz</td>\n",
       "      <td>2017</td>\n",
       "      <td>7.25</td>\n",
       "      <td>9.85</td>\n",
       "      <td>6900</td>\n",
       "      <td>Petrol</td>\n",
       "      <td>Dealer</td>\n",
       "      <td>Manual</td>\n",
       "      <td>0</td>\n",
       "      <td>2022</td>\n",
       "      <td>5</td>\n",
       "    </tr>\n",
       "    <tr>\n",
       "      <th>3</th>\n",
       "      <td>wagon r</td>\n",
       "      <td>2011</td>\n",
       "      <td>2.85</td>\n",
       "      <td>4.15</td>\n",
       "      <td>5200</td>\n",
       "      <td>Petrol</td>\n",
       "      <td>Dealer</td>\n",
       "      <td>Manual</td>\n",
       "      <td>0</td>\n",
       "      <td>2022</td>\n",
       "      <td>11</td>\n",
       "    </tr>\n",
       "    <tr>\n",
       "      <th>4</th>\n",
       "      <td>swift</td>\n",
       "      <td>2014</td>\n",
       "      <td>4.60</td>\n",
       "      <td>6.87</td>\n",
       "      <td>42450</td>\n",
       "      <td>Diesel</td>\n",
       "      <td>Dealer</td>\n",
       "      <td>Manual</td>\n",
       "      <td>0</td>\n",
       "      <td>2022</td>\n",
       "      <td>8</td>\n",
       "    </tr>\n",
       "  </tbody>\n",
       "</table>\n",
       "</div>"
      ],
      "text/plain": [
       "  Car_Name  Year  Selling_Price  Present_Price  Kms_Driven Fuel_Type  \\\n",
       "0     ritz  2014           3.35           5.59       27000    Petrol   \n",
       "1      sx4  2013           4.75           9.54       43000    Diesel   \n",
       "2     ciaz  2017           7.25           9.85        6900    Petrol   \n",
       "3  wagon r  2011           2.85           4.15        5200    Petrol   \n",
       "4    swift  2014           4.60           6.87       42450    Diesel   \n",
       "\n",
       "  Seller_Type Transmission  Owner  Current_Year  Car_Age  \n",
       "0      Dealer       Manual      0          2022        8  \n",
       "1      Dealer       Manual      0          2022        9  \n",
       "2      Dealer       Manual      0          2022        5  \n",
       "3      Dealer       Manual      0          2022       11  \n",
       "4      Dealer       Manual      0          2022        8  "
      ]
     },
     "execution_count": 14,
     "metadata": {},
     "output_type": "execute_result"
    }
   ],
   "source": [
    "vehicle_data.head()"
   ]
  },
  {
   "cell_type": "code",
   "execution_count": 15,
   "id": "93fdaa95",
   "metadata": {
    "execution": {
     "iopub.execute_input": "2022-08-28T12:02:32.028906Z",
     "iopub.status.busy": "2022-08-28T12:02:32.028509Z",
     "iopub.status.idle": "2022-08-28T12:02:32.035620Z",
     "shell.execute_reply": "2022-08-28T12:02:32.034406Z"
    },
    "papermill": {
     "duration": 0.024538,
     "end_time": "2022-08-28T12:02:32.038442",
     "exception": false,
     "start_time": "2022-08-28T12:02:32.013904",
     "status": "completed"
    },
    "tags": []
   },
   "outputs": [],
   "source": [
    "#Dropping unnecessary columns from Dataset\n",
    "vehicle_data.drop(columns=['Car_Name','Year','Current_Year'],inplace=True)"
   ]
  },
  {
   "cell_type": "code",
   "execution_count": 16,
   "id": "583c719d",
   "metadata": {
    "execution": {
     "iopub.execute_input": "2022-08-28T12:02:32.068300Z",
     "iopub.status.busy": "2022-08-28T12:02:32.067896Z",
     "iopub.status.idle": "2022-08-28T12:02:32.083057Z",
     "shell.execute_reply": "2022-08-28T12:02:32.081782Z"
    },
    "papermill": {
     "duration": 0.032964,
     "end_time": "2022-08-28T12:02:32.085417",
     "exception": false,
     "start_time": "2022-08-28T12:02:32.052453",
     "status": "completed"
    },
    "tags": []
   },
   "outputs": [
    {
     "data": {
      "text/html": [
       "<div>\n",
       "<style scoped>\n",
       "    .dataframe tbody tr th:only-of-type {\n",
       "        vertical-align: middle;\n",
       "    }\n",
       "\n",
       "    .dataframe tbody tr th {\n",
       "        vertical-align: top;\n",
       "    }\n",
       "\n",
       "    .dataframe thead th {\n",
       "        text-align: right;\n",
       "    }\n",
       "</style>\n",
       "<table border=\"1\" class=\"dataframe\">\n",
       "  <thead>\n",
       "    <tr style=\"text-align: right;\">\n",
       "      <th></th>\n",
       "      <th>Selling_Price</th>\n",
       "      <th>Present_Price</th>\n",
       "      <th>Kms_Driven</th>\n",
       "      <th>Fuel_Type</th>\n",
       "      <th>Seller_Type</th>\n",
       "      <th>Transmission</th>\n",
       "      <th>Owner</th>\n",
       "      <th>Car_Age</th>\n",
       "    </tr>\n",
       "  </thead>\n",
       "  <tbody>\n",
       "    <tr>\n",
       "      <th>0</th>\n",
       "      <td>3.35</td>\n",
       "      <td>5.59</td>\n",
       "      <td>27000</td>\n",
       "      <td>Petrol</td>\n",
       "      <td>Dealer</td>\n",
       "      <td>Manual</td>\n",
       "      <td>0</td>\n",
       "      <td>8</td>\n",
       "    </tr>\n",
       "    <tr>\n",
       "      <th>1</th>\n",
       "      <td>4.75</td>\n",
       "      <td>9.54</td>\n",
       "      <td>43000</td>\n",
       "      <td>Diesel</td>\n",
       "      <td>Dealer</td>\n",
       "      <td>Manual</td>\n",
       "      <td>0</td>\n",
       "      <td>9</td>\n",
       "    </tr>\n",
       "    <tr>\n",
       "      <th>2</th>\n",
       "      <td>7.25</td>\n",
       "      <td>9.85</td>\n",
       "      <td>6900</td>\n",
       "      <td>Petrol</td>\n",
       "      <td>Dealer</td>\n",
       "      <td>Manual</td>\n",
       "      <td>0</td>\n",
       "      <td>5</td>\n",
       "    </tr>\n",
       "    <tr>\n",
       "      <th>3</th>\n",
       "      <td>2.85</td>\n",
       "      <td>4.15</td>\n",
       "      <td>5200</td>\n",
       "      <td>Petrol</td>\n",
       "      <td>Dealer</td>\n",
       "      <td>Manual</td>\n",
       "      <td>0</td>\n",
       "      <td>11</td>\n",
       "    </tr>\n",
       "    <tr>\n",
       "      <th>4</th>\n",
       "      <td>4.60</td>\n",
       "      <td>6.87</td>\n",
       "      <td>42450</td>\n",
       "      <td>Diesel</td>\n",
       "      <td>Dealer</td>\n",
       "      <td>Manual</td>\n",
       "      <td>0</td>\n",
       "      <td>8</td>\n",
       "    </tr>\n",
       "  </tbody>\n",
       "</table>\n",
       "</div>"
      ],
      "text/plain": [
       "   Selling_Price  Present_Price  Kms_Driven Fuel_Type Seller_Type  \\\n",
       "0           3.35           5.59       27000    Petrol      Dealer   \n",
       "1           4.75           9.54       43000    Diesel      Dealer   \n",
       "2           7.25           9.85        6900    Petrol      Dealer   \n",
       "3           2.85           4.15        5200    Petrol      Dealer   \n",
       "4           4.60           6.87       42450    Diesel      Dealer   \n",
       "\n",
       "  Transmission  Owner  Car_Age  \n",
       "0       Manual      0        8  \n",
       "1       Manual      0        9  \n",
       "2       Manual      0        5  \n",
       "3       Manual      0       11  \n",
       "4       Manual      0        8  "
      ]
     },
     "execution_count": 16,
     "metadata": {},
     "output_type": "execute_result"
    }
   ],
   "source": [
    "vehicle_data.head()"
   ]
  },
  {
   "cell_type": "markdown",
   "id": "c00aacc8",
   "metadata": {
    "papermill": {
     "duration": 0.013311,
     "end_time": "2022-08-28T12:02:32.112418",
     "exception": false,
     "start_time": "2022-08-28T12:02:32.099107",
     "status": "completed"
    },
    "tags": []
   },
   "source": [
    "You can see that there are 3 columns which contain values in string form. so for analysis we are going to change them into numeric form."
   ]
  },
  {
   "cell_type": "code",
   "execution_count": 17,
   "id": "9cf19021",
   "metadata": {
    "execution": {
     "iopub.execute_input": "2022-08-28T12:02:32.141381Z",
     "iopub.status.busy": "2022-08-28T12:02:32.140974Z",
     "iopub.status.idle": "2022-08-28T12:02:32.149798Z",
     "shell.execute_reply": "2022-08-28T12:02:32.148757Z"
    },
    "papermill": {
     "duration": 0.026035,
     "end_time": "2022-08-28T12:02:32.152154",
     "exception": false,
     "start_time": "2022-08-28T12:02:32.126119",
     "status": "completed"
    },
    "tags": []
   },
   "outputs": [],
   "source": [
    "vehicle_data=pd.get_dummies(vehicle_data,columns=['Fuel_Type'],drop_first=True)"
   ]
  },
  {
   "cell_type": "code",
   "execution_count": 18,
   "id": "143a4590",
   "metadata": {
    "execution": {
     "iopub.execute_input": "2022-08-28T12:02:32.181205Z",
     "iopub.status.busy": "2022-08-28T12:02:32.180789Z",
     "iopub.status.idle": "2022-08-28T12:02:32.190222Z",
     "shell.execute_reply": "2022-08-28T12:02:32.189369Z"
    },
    "papermill": {
     "duration": 0.026759,
     "end_time": "2022-08-28T12:02:32.192458",
     "exception": false,
     "start_time": "2022-08-28T12:02:32.165699",
     "status": "completed"
    },
    "tags": []
   },
   "outputs": [],
   "source": [
    "vehicle_data=pd.get_dummies(vehicle_data,columns=['Transmission','Seller_Type'])"
   ]
  },
  {
   "cell_type": "code",
   "execution_count": 19,
   "id": "7c25311f",
   "metadata": {
    "execution": {
     "iopub.execute_input": "2022-08-28T12:02:32.221933Z",
     "iopub.status.busy": "2022-08-28T12:02:32.221144Z",
     "iopub.status.idle": "2022-08-28T12:02:32.235775Z",
     "shell.execute_reply": "2022-08-28T12:02:32.234734Z"
    },
    "papermill": {
     "duration": 0.031969,
     "end_time": "2022-08-28T12:02:32.238132",
     "exception": false,
     "start_time": "2022-08-28T12:02:32.206163",
     "status": "completed"
    },
    "tags": []
   },
   "outputs": [
    {
     "data": {
      "text/html": [
       "<div>\n",
       "<style scoped>\n",
       "    .dataframe tbody tr th:only-of-type {\n",
       "        vertical-align: middle;\n",
       "    }\n",
       "\n",
       "    .dataframe tbody tr th {\n",
       "        vertical-align: top;\n",
       "    }\n",
       "\n",
       "    .dataframe thead th {\n",
       "        text-align: right;\n",
       "    }\n",
       "</style>\n",
       "<table border=\"1\" class=\"dataframe\">\n",
       "  <thead>\n",
       "    <tr style=\"text-align: right;\">\n",
       "      <th></th>\n",
       "      <th>Selling_Price</th>\n",
       "      <th>Present_Price</th>\n",
       "      <th>Kms_Driven</th>\n",
       "      <th>Owner</th>\n",
       "      <th>Car_Age</th>\n",
       "      <th>Fuel_Type_Diesel</th>\n",
       "      <th>Fuel_Type_Petrol</th>\n",
       "      <th>Transmission_Automatic</th>\n",
       "      <th>Transmission_Manual</th>\n",
       "      <th>Seller_Type_Dealer</th>\n",
       "      <th>Seller_Type_Individual</th>\n",
       "    </tr>\n",
       "  </thead>\n",
       "  <tbody>\n",
       "    <tr>\n",
       "      <th>0</th>\n",
       "      <td>3.35</td>\n",
       "      <td>5.59</td>\n",
       "      <td>27000</td>\n",
       "      <td>0</td>\n",
       "      <td>8</td>\n",
       "      <td>0</td>\n",
       "      <td>1</td>\n",
       "      <td>0</td>\n",
       "      <td>1</td>\n",
       "      <td>1</td>\n",
       "      <td>0</td>\n",
       "    </tr>\n",
       "    <tr>\n",
       "      <th>1</th>\n",
       "      <td>4.75</td>\n",
       "      <td>9.54</td>\n",
       "      <td>43000</td>\n",
       "      <td>0</td>\n",
       "      <td>9</td>\n",
       "      <td>1</td>\n",
       "      <td>0</td>\n",
       "      <td>0</td>\n",
       "      <td>1</td>\n",
       "      <td>1</td>\n",
       "      <td>0</td>\n",
       "    </tr>\n",
       "    <tr>\n",
       "      <th>2</th>\n",
       "      <td>7.25</td>\n",
       "      <td>9.85</td>\n",
       "      <td>6900</td>\n",
       "      <td>0</td>\n",
       "      <td>5</td>\n",
       "      <td>0</td>\n",
       "      <td>1</td>\n",
       "      <td>0</td>\n",
       "      <td>1</td>\n",
       "      <td>1</td>\n",
       "      <td>0</td>\n",
       "    </tr>\n",
       "    <tr>\n",
       "      <th>3</th>\n",
       "      <td>2.85</td>\n",
       "      <td>4.15</td>\n",
       "      <td>5200</td>\n",
       "      <td>0</td>\n",
       "      <td>11</td>\n",
       "      <td>0</td>\n",
       "      <td>1</td>\n",
       "      <td>0</td>\n",
       "      <td>1</td>\n",
       "      <td>1</td>\n",
       "      <td>0</td>\n",
       "    </tr>\n",
       "    <tr>\n",
       "      <th>4</th>\n",
       "      <td>4.60</td>\n",
       "      <td>6.87</td>\n",
       "      <td>42450</td>\n",
       "      <td>0</td>\n",
       "      <td>8</td>\n",
       "      <td>1</td>\n",
       "      <td>0</td>\n",
       "      <td>0</td>\n",
       "      <td>1</td>\n",
       "      <td>1</td>\n",
       "      <td>0</td>\n",
       "    </tr>\n",
       "  </tbody>\n",
       "</table>\n",
       "</div>"
      ],
      "text/plain": [
       "   Selling_Price  Present_Price  Kms_Driven  Owner  Car_Age  Fuel_Type_Diesel  \\\n",
       "0           3.35           5.59       27000      0        8                 0   \n",
       "1           4.75           9.54       43000      0        9                 1   \n",
       "2           7.25           9.85        6900      0        5                 0   \n",
       "3           2.85           4.15        5200      0       11                 0   \n",
       "4           4.60           6.87       42450      0        8                 1   \n",
       "\n",
       "   Fuel_Type_Petrol  Transmission_Automatic  Transmission_Manual  \\\n",
       "0                 1                       0                    1   \n",
       "1                 0                       0                    1   \n",
       "2                 1                       0                    1   \n",
       "3                 1                       0                    1   \n",
       "4                 0                       0                    1   \n",
       "\n",
       "   Seller_Type_Dealer  Seller_Type_Individual  \n",
       "0                   1                       0  \n",
       "1                   1                       0  \n",
       "2                   1                       0  \n",
       "3                   1                       0  \n",
       "4                   1                       0  "
      ]
     },
     "execution_count": 19,
     "metadata": {},
     "output_type": "execute_result"
    }
   ],
   "source": [
    "vehicle_data.head()"
   ]
  },
  {
   "cell_type": "markdown",
   "id": "a4b06c8a",
   "metadata": {
    "papermill": {
     "duration": 0.013482,
     "end_time": "2022-08-28T12:02:32.265830",
     "exception": false,
     "start_time": "2022-08-28T12:02:32.252348",
     "status": "completed"
    },
    "tags": []
   },
   "source": [
    "As now our data is cleaned and prepared for analysis. we do exploratory data analysis"
   ]
  },
  {
   "cell_type": "code",
   "execution_count": 20,
   "id": "b22a6bbe",
   "metadata": {
    "execution": {
     "iopub.execute_input": "2022-08-28T12:02:32.295546Z",
     "iopub.status.busy": "2022-08-28T12:02:32.294509Z",
     "iopub.status.idle": "2022-08-28T12:02:32.876401Z",
     "shell.execute_reply": "2022-08-28T12:02:32.875217Z"
    },
    "papermill": {
     "duration": 0.599423,
     "end_time": "2022-08-28T12:02:32.879071",
     "exception": false,
     "start_time": "2022-08-28T12:02:32.279648",
     "status": "completed"
    },
    "tags": []
   },
   "outputs": [
    {
     "data": {
      "text/plain": [
       "<AxesSubplot:xlabel='Car_Age', ylabel='Selling_Price'>"
      ]
     },
     "execution_count": 20,
     "metadata": {},
     "output_type": "execute_result"
    },
    {
     "data": {
      "image/png": "[encoded data removed]",
      "text/plain": [
       "<Figure size 432x288 with 1 Axes>"
      ]
     },
     "metadata": {
      "needs_background": "light"
     },
     "output_type": "display_data"
    }
   ],
   "source": [
    "sns.barplot(x='Car_Age',y='Selling_Price',data=vehicle_data,palette='viridis')"
   ]
  },
  {
   "cell_type": "code",
   "execution_count": 21,
   "id": "c35a385f",
   "metadata": {
    "execution": {
     "iopub.execute_input": "2022-08-28T12:02:32.911013Z",
     "iopub.status.busy": "2022-08-28T12:02:32.910400Z",
     "iopub.status.idle": "2022-08-28T12:02:36.228061Z",
     "shell.execute_reply": "2022-08-28T12:02:36.226862Z"
    },
    "papermill": {
     "duration": 3.33668,
     "end_time": "2022-08-28T12:02:36.231046",
     "exception": false,
     "start_time": "2022-08-28T12:02:32.894366",
     "status": "completed"
    },
    "tags": []
   },
   "outputs": [
    {
     "data": {
      "text/plain": [
       "<AxesSubplot:xlabel='Present_Price', ylabel='Selling_Price'>"
      ]
     },
     "execution_count": 21,
     "metadata": {},
     "output_type": "execute_result"
    },
    {
     "data": {
      "image/png": "[encoded data removed]",
      "text/plain": [
       "<Figure size 432x288 with 1 Axes>"
      ]
     },
     "metadata": {
      "needs_background": "light"
     },
     "output_type": "display_data"
    }
   ],
   "source": [
    "sns.barplot(x='Present_Price',y='Selling_Price',data=vehicle_data,palette='viridis')"
   ]
  },
  {
   "cell_type": "markdown",
   "id": "1355db86",
   "metadata": {
    "papermill": {
     "duration": 0.014645,
     "end_time": "2022-08-28T12:02:36.265262",
     "exception": false,
     "start_time": "2022-08-28T12:02:36.250617",
     "status": "completed"
    },
    "tags": []
   },
   "source": [
    "This bar graph shows that selling price and present price are strongly co-linear as the present prices increase there is also increase in selling price"
   ]
  },
  {
   "cell_type": "code",
   "execution_count": 22,
   "id": "c45147a3",
   "metadata": {
    "execution": {
     "iopub.execute_input": "2022-08-28T12:02:36.296114Z",
     "iopub.status.busy": "2022-08-28T12:02:36.295740Z",
     "iopub.status.idle": "2022-08-28T12:02:37.784520Z",
     "shell.execute_reply": "2022-08-28T12:02:37.783211Z"
    },
    "papermill": {
     "duration": 1.506967,
     "end_time": "2022-08-28T12:02:37.786844",
     "exception": false,
     "start_time": "2022-08-28T12:02:36.279877",
     "status": "completed"
    },
    "tags": []
   },
   "outputs": [
    {
     "data": {
      "text/plain": [
       "array([[<AxesSubplot:title={'center':'Selling_Price'}>,\n",
       "        <AxesSubplot:title={'center':'Present_Price'}>,\n",
       "        <AxesSubplot:title={'center':'Kms_Driven'}>],\n",
       "       [<AxesSubplot:title={'center':'Owner'}>,\n",
       "        <AxesSubplot:title={'center':'Car_Age'}>,\n",
       "        <AxesSubplot:title={'center':'Fuel_Type_Diesel'}>],\n",
       "       [<AxesSubplot:title={'center':'Fuel_Type_Petrol'}>,\n",
       "        <AxesSubplot:title={'center':'Transmission_Automatic'}>,\n",
       "        <AxesSubplot:title={'center':'Transmission_Manual'}>],\n",
       "       [<AxesSubplot:title={'center':'Seller_Type_Dealer'}>,\n",
       "        <AxesSubplot:title={'center':'Seller_Type_Individual'}>,\n",
       "        <AxesSubplot:>]], dtype=object)"
      ]
     },
     "execution_count": 22,
     "metadata": {},
     "output_type": "execute_result"
    },
    {
     "data": {
      "image/png": "[encoded data removed]",
      "text/plain": [
       "<Figure size 720x720 with 12 Axes>"
      ]
     },
     "metadata": {
      "needs_background": "light"
     },
     "output_type": "display_data"
    }
   ],
   "source": [
    "vehicle_data.hist(figsize=(10,10))"
   ]
  },
  {
   "cell_type": "code",
   "execution_count": 23,
   "id": "04249d7f",
   "metadata": {
    "execution": {
     "iopub.execute_input": "2022-08-28T12:02:37.819956Z",
     "iopub.status.busy": "2022-08-28T12:02:37.819342Z",
     "iopub.status.idle": "2022-08-28T12:02:38.786888Z",
     "shell.execute_reply": "2022-08-28T12:02:38.785741Z"
    },
    "papermill": {
     "duration": 0.987663,
     "end_time": "2022-08-28T12:02:38.790284",
     "exception": false,
     "start_time": "2022-08-28T12:02:37.802621",
     "status": "completed"
    },
    "tags": []
   },
   "outputs": [
    {
     "data": {
      "text/plain": [
       "<AxesSubplot:>"
      ]
     },
     "execution_count": 23,
     "metadata": {},
     "output_type": "execute_result"
    },
    {
     "data": {
      "image/png": "[encoded data removed]",
      "text/plain": [
       "<Figure size 864x864 with 2 Axes>"
      ]
     },
     "metadata": {
      "needs_background": "light"
     },
     "output_type": "display_data"
    }
   ],
   "source": [
    "plt.figure(figsize=(12,12))\n",
    "sns.heatmap(vehicle_data.corr(),annot=True,cmap=\"RdYlGn\")\n"
   ]
  },
  {
   "cell_type": "markdown",
   "id": "1c91d59a",
   "metadata": {
    "papermill": {
     "duration": 0.016923,
     "end_time": "2022-08-28T12:02:38.824831",
     "exception": false,
     "start_time": "2022-08-28T12:02:38.807908",
     "status": "completed"
    },
    "tags": []
   },
   "source": [
    "This Graph shows the corelation of different variables with oneanother. from this we can also get information that how how dependent variable is related with other independent variables."
   ]
  },
  {
   "cell_type": "code",
   "execution_count": 24,
   "id": "79c07b08",
   "metadata": {
    "execution": {
     "iopub.execute_input": "2022-08-28T12:02:38.861421Z",
     "iopub.status.busy": "2022-08-28T12:02:38.860804Z",
     "iopub.status.idle": "2022-08-28T12:02:38.868758Z",
     "shell.execute_reply": "2022-08-28T12:02:38.868035Z"
    },
    "papermill": {
     "duration": 0.028678,
     "end_time": "2022-08-28T12:02:38.870819",
     "exception": false,
     "start_time": "2022-08-28T12:02:38.842141",
     "status": "completed"
    },
    "tags": []
   },
   "outputs": [
    {
     "data": {
      "text/plain": [
       "Selling_Price             1.000000\n",
       "Present_Price             0.878983\n",
       "Kms_Driven                0.029187\n",
       "Owner                    -0.088344\n",
       "Car_Age                  -0.236141\n",
       "Fuel_Type_Diesel          0.552339\n",
       "Fuel_Type_Petrol         -0.540571\n",
       "Transmission_Automatic    0.367128\n",
       "Transmission_Manual      -0.367128\n",
       "Seller_Type_Dealer        0.550724\n",
       "Seller_Type_Individual   -0.550724\n",
       "Name: Selling_Price, dtype: float64"
      ]
     },
     "execution_count": 24,
     "metadata": {},
     "output_type": "execute_result"
    }
   ],
   "source": [
    "vehicle_data.corr()['Selling_Price']"
   ]
  },
  {
   "cell_type": "markdown",
   "id": "a2244f9a",
   "metadata": {
    "papermill": {
     "duration": 0.016833,
     "end_time": "2022-08-28T12:02:38.905443",
     "exception": false,
     "start_time": "2022-08-28T12:02:38.888610",
     "status": "completed"
    },
    "tags": []
   },
   "source": [
    "Now we can save the dependent variable into y variable then drop dependent variable from dataset and save remaining variables into x variable"
   ]
  },
  {
   "cell_type": "code",
   "execution_count": 25,
   "id": "a03d2bd5",
   "metadata": {
    "execution": {
     "iopub.execute_input": "2022-08-28T12:02:38.941753Z",
     "iopub.status.busy": "2022-08-28T12:02:38.941075Z",
     "iopub.status.idle": "2022-08-28T12:02:38.946465Z",
     "shell.execute_reply": "2022-08-28T12:02:38.945575Z"
    },
    "papermill": {
     "duration": 0.02603,
     "end_time": "2022-08-28T12:02:38.948622",
     "exception": false,
     "start_time": "2022-08-28T12:02:38.922592",
     "status": "completed"
    },
    "tags": []
   },
   "outputs": [],
   "source": [
    "y = vehicle_data['Selling_Price']\n",
    "x = vehicle_data.drop('Selling_Price',axis=1)"
   ]
  },
  {
   "cell_type": "code",
   "execution_count": 26,
   "id": "165ebb05",
   "metadata": {
    "execution": {
     "iopub.execute_input": "2022-08-28T12:02:38.985376Z",
     "iopub.status.busy": "2022-08-28T12:02:38.984689Z",
     "iopub.status.idle": "2022-08-28T12:02:38.990139Z",
     "shell.execute_reply": "2022-08-28T12:02:38.988833Z"
    },
    "papermill": {
     "duration": 0.026687,
     "end_time": "2022-08-28T12:02:38.992765",
     "exception": false,
     "start_time": "2022-08-28T12:02:38.966078",
     "status": "completed"
    },
    "tags": []
   },
   "outputs": [
    {
     "name": "stdout",
     "output_type": "stream",
     "text": [
      "(301, 10)\n",
      "(301,)\n"
     ]
    }
   ],
   "source": [
    "print(x.shape)\n",
    "print(y.shape)"
   ]
  },
  {
   "cell_type": "code",
   "execution_count": 27,
   "id": "d1a21dbb",
   "metadata": {
    "execution": {
     "iopub.execute_input": "2022-08-28T12:02:39.030340Z",
     "iopub.status.busy": "2022-08-28T12:02:39.029637Z",
     "iopub.status.idle": "2022-08-28T12:02:39.036479Z",
     "shell.execute_reply": "2022-08-28T12:02:39.035609Z"
    },
    "papermill": {
     "duration": 0.028239,
     "end_time": "2022-08-28T12:02:39.038572",
     "exception": false,
     "start_time": "2022-08-28T12:02:39.010333",
     "status": "completed"
    },
    "tags": []
   },
   "outputs": [],
   "source": [
    "from sklearn.model_selection import train_test_split\n",
    "x_train,x_test,y_train,y_test=train_test_split(x,y,test_size=0.2,random_state=1)"
   ]
  },
  {
   "cell_type": "markdown",
   "id": "3cd228d8",
   "metadata": {
    "papermill": {
     "duration": 0.017312,
     "end_time": "2022-08-28T12:02:39.073531",
     "exception": false,
     "start_time": "2022-08-28T12:02:39.056219",
     "status": "completed"
    },
    "tags": []
   },
   "source": [
    "We have import train_test_split function from sklearn library and then splited dataset into x_train,x_test,y_train,y_test."
   ]
  },
  {
   "cell_type": "code",
   "execution_count": 28,
   "id": "c909c313",
   "metadata": {
    "execution": {
     "iopub.execute_input": "2022-08-28T12:02:39.110815Z",
     "iopub.status.busy": "2022-08-28T12:02:39.110096Z",
     "iopub.status.idle": "2022-08-28T12:02:39.116405Z",
     "shell.execute_reply": "2022-08-28T12:02:39.115078Z"
    },
    "papermill": {
     "duration": 0.028287,
     "end_time": "2022-08-28T12:02:39.119394",
     "exception": false,
     "start_time": "2022-08-28T12:02:39.091107",
     "status": "completed"
    },
    "tags": []
   },
   "outputs": [
    {
     "name": "stdout",
     "output_type": "stream",
     "text": [
      "(240, 10)\n",
      "(61, 10)\n",
      "(240,)\n",
      "(61,)\n"
     ]
    }
   ],
   "source": [
    "print(x_train.shape)\n",
    "print(x_test.shape)\n",
    "print(y_train.shape)\n",
    "print(y_test.shape)"
   ]
  },
  {
   "cell_type": "code",
   "execution_count": 29,
   "id": "a3c16333",
   "metadata": {
    "execution": {
     "iopub.execute_input": "2022-08-28T12:02:39.157126Z",
     "iopub.status.busy": "2022-08-28T12:02:39.156431Z",
     "iopub.status.idle": "2022-08-28T12:02:39.160517Z",
     "shell.execute_reply": "2022-08-28T12:02:39.159716Z"
    },
    "papermill": {
     "duration": 0.02518,
     "end_time": "2022-08-28T12:02:39.162482",
     "exception": false,
     "start_time": "2022-08-28T12:02:39.137302",
     "status": "completed"
    },
    "tags": []
   },
   "outputs": [],
   "source": [
    "# we have imported linear regression algorithms from sckit-learn labrary in the start \n",
    "lm = LinearRegression()"
   ]
  },
  {
   "cell_type": "code",
   "execution_count": 30,
   "id": "cc45336a",
   "metadata": {
    "execution": {
     "iopub.execute_input": "2022-08-28T12:02:39.199788Z",
     "iopub.status.busy": "2022-08-28T12:02:39.198823Z",
     "iopub.status.idle": "2022-08-28T12:02:39.224699Z",
     "shell.execute_reply": "2022-08-28T12:02:39.223386Z"
    },
    "papermill": {
     "duration": 0.046972,
     "end_time": "2022-08-28T12:02:39.226896",
     "exception": false,
     "start_time": "2022-08-28T12:02:39.179924",
     "status": "completed"
    },
    "tags": []
   },
   "outputs": [
    {
     "data": {
      "text/plain": [
       "LinearRegression()"
      ]
     },
     "execution_count": 30,
     "metadata": {},
     "output_type": "execute_result"
    }
   ],
   "source": [
    "lm.fit(x_train,y_train)"
   ]
  },
  {
   "cell_type": "markdown",
   "id": "20e47136",
   "metadata": {
    "papermill": {
     "duration": 0.017361,
     "end_time": "2022-08-28T12:02:39.261735",
     "exception": false,
     "start_time": "2022-08-28T12:02:39.244374",
     "status": "completed"
    },
    "tags": []
   },
   "source": [
    "We have fitted the training data into model. and then run the model on given data."
   ]
  },
  {
   "cell_type": "code",
   "execution_count": 31,
   "id": "7ed8dba9",
   "metadata": {
    "execution": {
     "iopub.execute_input": "2022-08-28T12:02:39.298545Z",
     "iopub.status.busy": "2022-08-28T12:02:39.298159Z",
     "iopub.status.idle": "2022-08-28T12:02:39.308495Z",
     "shell.execute_reply": "2022-08-28T12:02:39.307669Z"
    },
    "papermill": {
     "duration": 0.031303,
     "end_time": "2022-08-28T12:02:39.310499",
     "exception": false,
     "start_time": "2022-08-28T12:02:39.279196",
     "status": "completed"
    },
    "tags": []
   },
   "outputs": [
    {
     "data": {
      "text/plain": [
       "0.8625260513315248"
      ]
     },
     "execution_count": 31,
     "metadata": {},
     "output_type": "execute_result"
    }
   ],
   "source": [
    "lm.score(x_test,y_test)"
   ]
  },
  {
   "cell_type": "markdown",
   "id": "83ba23d1",
   "metadata": {
    "papermill": {
     "duration": 0.017288,
     "end_time": "2022-08-28T12:02:39.345517",
     "exception": false,
     "start_time": "2022-08-28T12:02:39.328229",
     "status": "completed"
    },
    "tags": []
   },
   "source": [
    "the accuracy of model is 0.86 which shows that linear regression is giving good results for this model."
   ]
  },
  {
   "cell_type": "code",
   "execution_count": 32,
   "id": "1eb43eb7",
   "metadata": {
    "execution": {
     "iopub.execute_input": "2022-08-28T12:02:39.382944Z",
     "iopub.status.busy": "2022-08-28T12:02:39.382214Z",
     "iopub.status.idle": "2022-08-28T12:02:39.386694Z",
     "shell.execute_reply": "2022-08-28T12:02:39.385895Z"
    },
    "papermill": {
     "duration": 0.025386,
     "end_time": "2022-08-28T12:02:39.388652",
     "exception": false,
     "start_time": "2022-08-28T12:02:39.363266",
     "status": "completed"
    },
    "tags": []
   },
   "outputs": [],
   "source": [
    "from sklearn.linear_model import Lasso\n",
    "lo = Lasso()"
   ]
  },
  {
   "cell_type": "code",
   "execution_count": 33,
   "id": "c01fe233",
   "metadata": {
    "execution": {
     "iopub.execute_input": "2022-08-28T12:02:39.425706Z",
     "iopub.status.busy": "2022-08-28T12:02:39.425012Z",
     "iopub.status.idle": "2022-08-28T12:02:39.435516Z",
     "shell.execute_reply": "2022-08-28T12:02:39.434664Z"
    },
    "papermill": {
     "duration": 0.031475,
     "end_time": "2022-08-28T12:02:39.437546",
     "exception": false,
     "start_time": "2022-08-28T12:02:39.406071",
     "status": "completed"
    },
    "tags": []
   },
   "outputs": [
    {
     "data": {
      "text/plain": [
       "Lasso()"
      ]
     },
     "execution_count": 33,
     "metadata": {},
     "output_type": "execute_result"
    }
   ],
   "source": [
    "lo.fit(x_train,y_train)"
   ]
  },
  {
   "cell_type": "code",
   "execution_count": 34,
   "id": "9bbb5740",
   "metadata": {
    "execution": {
     "iopub.execute_input": "2022-08-28T12:02:39.474772Z",
     "iopub.status.busy": "2022-08-28T12:02:39.474094Z",
     "iopub.status.idle": "2022-08-28T12:02:39.482448Z",
     "shell.execute_reply": "2022-08-28T12:02:39.481535Z"
    },
    "papermill": {
     "duration": 0.029144,
     "end_time": "2022-08-28T12:02:39.484367",
     "exception": false,
     "start_time": "2022-08-28T12:02:39.455223",
     "status": "completed"
    },
    "tags": []
   },
   "outputs": [
    {
     "data": {
      "text/plain": [
       "0.8544763192780581"
      ]
     },
     "execution_count": 34,
     "metadata": {},
     "output_type": "execute_result"
    }
   ],
   "source": [
    "lo.score(x_test,y_test)"
   ]
  },
  {
   "cell_type": "markdown",
   "id": "3ad11ff8",
   "metadata": {
    "papermill": {
     "duration": 0.017255,
     "end_time": "2022-08-28T12:02:39.519218",
     "exception": false,
     "start_time": "2022-08-28T12:02:39.501963",
     "status": "completed"
    },
    "tags": []
   },
   "source": [
    "#### the accuracy of model is 0.85 which shows that lasso is also giving good results for this model."
   ]
  },
  {
   "cell_type": "markdown",
   "id": "00949bad",
   "metadata": {
    "papermill": {
     "duration": 0.017263,
     "end_time": "2022-08-28T12:02:39.554014",
     "exception": false,
     "start_time": "2022-08-28T12:02:39.536751",
     "status": "completed"
    },
    "tags": []
   },
   "source": [
    "### The Score of Regression Model is 0.86\n",
    "### The Score of Lasso Model is 0.85\n"
   ]
  },
  {
   "cell_type": "markdown",
   "id": "5dd054f0",
   "metadata": {
    "papermill": {
     "duration": 0.017183,
     "end_time": "2022-08-28T12:02:39.588936",
     "exception": false,
     "start_time": "2022-08-28T12:02:39.571753",
     "status": "completed"
    },
    "tags": []
   },
   "source": [
    "## Conclusions:\n",
    "#### •\tPresent price of a car directly influences Selling Price prediction. Both are highly correlated and here directly proportional to each other.\n",
    "#### •\tResale value of Automatic vehicle is more than that of a Manual vehicle.\n",
    "#### •\tCar age is effecting negatively as the Selling Price decreases for an older car.\n",
    "#### •\tResale value of cars with Fuel type Diesel is higher.\n",
    "#### •\tResale value of car with Seller type Dealer is higher than seller type individual\n"
   ]
  },
  {
   "cell_type": "markdown",
   "id": "e90ab085",
   "metadata": {
    "papermill": {
     "duration": 0.017279,
     "end_time": "2022-08-28T12:02:39.623947",
     "exception": false,
     "start_time": "2022-08-28T12:02:39.606668",
     "status": "completed"
    },
    "tags": []
   },
   "source": []
  },
  {
   "cell_type": "markdown",
   "id": "0ae8f928",
   "metadata": {
    "papermill": {
     "duration": 0.017341,
     "end_time": "2022-08-28T12:02:39.658983",
     "exception": false,
     "start_time": "2022-08-28T12:02:39.641642",
     "status": "completed"
    },
    "tags": []
   },
   "source": []
  },
  {
   "cell_type": "markdown",
   "id": "193b00bc",
   "metadata": {
    "papermill": {
     "duration": 0.018966,
     "end_time": "2022-08-28T12:02:39.697037",
     "exception": false,
     "start_time": "2022-08-28T12:02:39.678071",
     "status": "completed"
    },
    "tags": []
   },
   "source": []
  },
  {
   "cell_type": "markdown",
   "id": "d3b04662",
   "metadata": {
    "papermill": {
     "duration": 0.017204,
     "end_time": "2022-08-28T12:02:39.731903",
     "exception": false,
     "start_time": "2022-08-28T12:02:39.714699",
     "status": "completed"
    },
    "tags": []
   },
   "source": []
  },
  {
   "cell_type": "markdown",
   "id": "82671ee7",
   "metadata": {
    "papermill": {
     "duration": 0.017215,
     "end_time": "2022-08-28T12:02:39.766976",
     "exception": false,
     "start_time": "2022-08-28T12:02:39.749761",
     "status": "completed"
    },
    "tags": []
   },
   "source": []
  },
  {
   "cell_type": "markdown",
   "id": "bd0c0114",
   "metadata": {
    "papermill": {
     "duration": 0.017359,
     "end_time": "2022-08-28T12:02:39.801949",
     "exception": false,
     "start_time": "2022-08-28T12:02:39.784590",
     "status": "completed"
    },
    "tags": []
   },
   "source": []
  },
  {
   "cell_type": "markdown",
   "id": "0d798205",
   "metadata": {
    "papermill": {
     "duration": 0.017372,
     "end_time": "2022-08-28T12:02:39.837017",
     "exception": false,
     "start_time": "2022-08-28T12:02:39.819645",
     "status": "completed"
    },
    "tags": []
   },
   "source": []
  },
  {
   "cell_type": "markdown",
   "id": "f802fd3c",
   "metadata": {
    "papermill": {
     "duration": 0.017595,
     "end_time": "2022-08-28T12:02:39.872477",
     "exception": false,
     "start_time": "2022-08-28T12:02:39.854882",
     "status": "completed"
    },
    "tags": []
   },
   "source": []
  },
  {
   "cell_type": "code",
   "execution_count": null,
   "id": "adc94846",
   "metadata": {
    "papermill": {
     "duration": 0.01731,
     "end_time": "2022-08-28T12:02:39.907543",
     "exception": false,
     "start_time": "2022-08-28T12:02:39.890233",
     "status": "completed"
    },
    "tags": []
   },
   "outputs": [],
   "source": []
  },
  {
   "cell_type": "markdown",
   "id": "30f18fb5",
   "metadata": {
    "papermill": {
     "duration": 0.0176,
     "end_time": "2022-08-28T12:02:39.943527",
     "exception": false,
     "start_time": "2022-08-28T12:02:39.925927",
     "status": "completed"
    },
    "tags": []
   },
   "source": []
  },
  {
   "cell_type": "code",
   "execution_count": null,
   "id": "9ec7087c",
   "metadata": {
    "papermill": {
     "duration": 0.017937,
     "end_time": "2022-08-28T12:02:39.979597",
     "exception": false,
     "start_time": "2022-08-28T12:02:39.961660",
     "status": "completed"
    },
    "tags": []
   },
   "outputs": [],
   "source": []
  },
  {
   "cell_type": "code",
   "execution_count": null,
   "id": "36003212",
   "metadata": {
    "papermill": {
     "duration": 0.017576,
     "end_time": "2022-08-28T12:02:40.015197",
     "exception": false,
     "start_time": "2022-08-28T12:02:39.997621",
     "status": "completed"
    },
    "tags": []
   },
   "outputs": [],
   "source": []
  },
  {
   "cell_type": "markdown",
   "id": "da9dd04b",
   "metadata": {
    "papermill": {
     "duration": 0.017876,
     "end_time": "2022-08-28T12:02:40.050888",
     "exception": false,
     "start_time": "2022-08-28T12:02:40.033012",
     "status": "completed"
    },
    "tags": []
   },
   "source": []
  }
 ],
 "metadata": {
  "kernelspec": {
   "display_name": "Python 3",
   "language": "python",
   "name": "python3"
  },
  "language_info": {
   "codemirror_mode": {
    "name": "ipython",
    "version": 3
   },
   "file_extension": ".py",
   "mimetype": "text/x-python",
   "name": "python",
   "nbconvert_exporter": "python",
   "pygments_lexer": "ipython3",
   "version": "3.7.12"
  },
  "papermill": {
   "default_parameters": {},
   "duration": 19.920256,
   "end_time": "2022-08-28T12:02:40.891098",
   "environment_variables": {},
   "exception": null,
   "input_path": "__notebook__.ipynb",
   "output_path": "__notebook__.ipynb",
   "parameters": {},
   "start_time": "2022-08-28T12:02:20.970842",
   "version": "2.3.4"
  }
 },
 "nbformat": 4,
 "nbformat_minor": 5
}
